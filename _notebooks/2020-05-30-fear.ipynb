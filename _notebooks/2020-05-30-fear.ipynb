{
 "cells": [
  {
   "cell_type": "markdown",
   "metadata": {},
   "source": [
    "#Generational Anxiety\n",
    "> \"The consistency of fear in a world with increasing unknowns\"\n"
   ]
  },
  {
   "cell_type": "markdown",
   "metadata": {},
   "source": [
    "- toc: true\n",
    "- branch: master\n",
    "- author: Marieke Jackson\n",
    "- categories: [data, essays]\n",
    "- image: images/posts/gen_anx/me_n_gaga.jpg\n",
    "- badges: false\n",
    "- hide: true"
   ]
  }
 ],
 "metadata": {
  "kernelspec": {
   "display_name": "website",
   "language": "python",
   "name": "website"
  },
  "language_info": {
   "codemirror_mode": {
    "name": "ipython",
    "version": 3
   },
   "file_extension": ".py",
   "mimetype": "text/x-python",
   "name": "python",
   "nbconvert_exporter": "python",
   "pygments_lexer": "ipython3",
   "version": "3.7.4"
  }
 },
 "nbformat": 4,
 "nbformat_minor": 2
}
